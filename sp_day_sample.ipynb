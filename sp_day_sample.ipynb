{
 "cells": [
  {
   "cell_type": "markdown",
   "id": "5d03b751-1996-4d0e-812e-3703061a7ea1",
   "metadata": {},
   "source": [
    "**Simple Notebook Using ODW Newspaper data**\n",
    "\n",
    "With kudos to [jcoliver's](https://github.com/jcoliver) [Collections as Data](repository). This is a slight variation on the [Introduction to text mining notebook](https://github.com/jcoliver/dig-coll-borderlands/blob/main/Text-Mining-Short.ipynb)."
   ]
  },
  {
   "cell_type": "code",
   "execution_count": 2,
   "id": "44d45399-6a07-4535-a69f-bdf3edf84a9e",
   "metadata": {},
   "outputs": [
    {
     "ename": "ModuleNotFoundError",
     "evalue": "No module named 'nltk'",
     "output_type": "error",
     "traceback": [
      "\u001b[0;31m---------------------------------------------------------------------------\u001b[0m",
      "\u001b[0;31mModuleNotFoundError\u001b[0m                       Traceback (most recent call last)",
      "\u001b[0;32m/tmp/ipykernel_80/2753228670.py\u001b[0m in \u001b[0;36m<module>\u001b[0;34m\u001b[0m\n\u001b[1;32m      6\u001b[0m \u001b[0;34m\u001b[0m\u001b[0m\n\u001b[1;32m      7\u001b[0m \u001b[0;31m# for text data mining\u001b[0m\u001b[0;34m\u001b[0m\u001b[0;34m\u001b[0m\u001b[0;34m\u001b[0m\u001b[0m\n\u001b[0;32m----> 8\u001b[0;31m \u001b[0;32mimport\u001b[0m \u001b[0mnltk\u001b[0m\u001b[0;34m\u001b[0m\u001b[0;34m\u001b[0m\u001b[0m\n\u001b[0m\u001b[1;32m      9\u001b[0m \u001b[0;34m\u001b[0m\u001b[0m\n\u001b[1;32m     10\u001b[0m \u001b[0;31m# for stopword corpora for a variety of languages\u001b[0m\u001b[0;34m\u001b[0m\u001b[0;34m\u001b[0m\u001b[0;34m\u001b[0m\u001b[0m\n",
      "\u001b[0;31mModuleNotFoundError\u001b[0m: No module named 'nltk'"
     ]
    }
   ],
   "source": [
    "# First step is to get all of the necessary python building blocks\n",
    "#import pandas\n",
    "\n",
    "# for file navigation\n",
    "import os\n",
    "\n",
    "# for text data mining\n",
    "import nltk\n",
    "\n",
    "# for stopword corpora for a variety of languages\n",
    "from nltk.corpus import stopwords\n",
    "\n",
    "# for splitting data into individual words\n",
    "from nltk.tokenize import RegexpTokenizer\n",
    "\n",
    "# for automated text cleaning\n",
    "import digcol as dc\n",
    "\n",
    "# download the stopwords for several languages\n",
    "nltk.download('stopwords')\n",
    "\n",
    "# for drawing the plot\n",
    "import plotly.express as px"
   ]
  },
  {
   "cell_type": "markdown",
   "id": "25e92871-353e-4fb0-9feb-8c916169ee9a",
   "metadata": {},
   "source": [
    "You need to run the block above for the one below to work. The notebook will need all of the libraries it imports. The next block is where the newspaper is specfied."
   ]
  },
  {
   "cell_type": "code",
   "execution_count": null,
   "id": "219d97cc-9a83-4406-9caf-ac5da04a6b97",
   "metadata": {},
   "outputs": [],
   "source": [
    "newspaper = 'echo' #code for the Amherstburg Echo\n",
    "print('->', newspaper)"
   ]
  },
  {
   "cell_type": "markdown",
   "id": "906c1b69-e0cb-4898-9d2c-6ea1d78f9663",
   "metadata": {},
   "source": [
    "The data can now be accessed in the notebook."
   ]
  },
  {
   "cell_type": "code",
   "execution_count": null,
   "id": "7db046dc-751b-4dd9-ae25-e4b787a61a4e",
   "metadata": {},
   "outputs": [],
   "source": [
    "# only one data path at this point\n",
    "volume_path = 'data_samples'\n",
    "\n",
    "sample_issues = os.listdir(volume_path + '/' + newspaper + '/*.txt'\n",
    "sample_issues.sort()\n",
    "                           \n",
    "for issue in sample_issues:\n",
    "    print('->', issue)"
   ]
  },
  {
   "cell_type": "code",
   "execution_count": null,
   "id": "2347e782-47d3-4f92-972f-86d3ffbd6004",
   "metadata": {},
   "outputs": [],
   "source": []
  }
 ],
 "metadata": {
  "kernelspec": {
   "display_name": "Python 3 (ipykernel)",
   "language": "python",
   "name": "python3"
  },
  "language_info": {
   "codemirror_mode": {
    "name": "ipython",
    "version": 3
   },
   "file_extension": ".py",
   "mimetype": "text/x-python",
   "name": "python",
   "nbconvert_exporter": "python",
   "pygments_lexer": "ipython3",
   "version": "3.7.12"
  }
 },
 "nbformat": 4,
 "nbformat_minor": 5
}
